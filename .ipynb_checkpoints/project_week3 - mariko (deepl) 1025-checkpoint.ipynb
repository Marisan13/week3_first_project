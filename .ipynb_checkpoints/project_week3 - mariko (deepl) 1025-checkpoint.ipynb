{
 "cells": [
  {
   "cell_type": "markdown",
   "id": "3655e943",
   "metadata": {},
   "source": [
    "# Food Waste - Project Week 3 - Mariko"
   ]
  },
  {
   "cell_type": "code",
   "execution_count": 1,
   "id": "f92b4589",
   "metadata": {
    "scrolled": true
   },
   "outputs": [],
   "source": [
    "import pandas as pd\n",
    "from bs4 import BeautifulSoup\n",
    "import requests\n",
    "import statistics as stat\n",
    "from googletrans import Translator\n",
    "import re"
   ]
  },
  {
   "cell_type": "code",
   "execution_count": 2,
   "id": "49d6b899",
   "metadata": {},
   "outputs": [
    {
     "name": "stdout",
     "output_type": "stream",
     "text": [
      "Insert your leftovers (max. 3): milk,eggs,floar\n"
     ]
    },
    {
     "data": {
      "text/html": [
       "<div>\n",
       "<style scoped>\n",
       "    .dataframe tbody tr th:only-of-type {\n",
       "        vertical-align: middle;\n",
       "    }\n",
       "\n",
       "    .dataframe tbody tr th {\n",
       "        vertical-align: top;\n",
       "    }\n",
       "\n",
       "    .dataframe thead th {\n",
       "        text-align: right;\n",
       "    }\n",
       "</style>\n",
       "<table border=\"1\" class=\"dataframe\">\n",
       "  <thead>\n",
       "    <tr style=\"text-align: right;\">\n",
       "      <th></th>\n",
       "      <th>Name</th>\n",
       "      <th>Brand</th>\n",
       "      <th>Cost [€]</th>\n",
       "      <th>Quantity</th>\n",
       "    </tr>\n",
       "  </thead>\n",
       "  <tbody>\n",
       "    <tr>\n",
       "      <th>0</th>\n",
       "      <td>Gelado Chocolate Crunch Milk Caramel Pretzel</td>\n",
       "      <td>Continente</td>\n",
       "      <td>2.59</td>\n",
       "      <td>emb. 500 ml</td>\n",
       "    </tr>\n",
       "    <tr>\n",
       "      <th>0</th>\n",
       "      <td>Ovos Surpresa Dinos</td>\n",
       "      <td>Crackin' Eggs</td>\n",
       "      <td>12.99</td>\n",
       "      <td></td>\n",
       "    </tr>\n",
       "    <tr>\n",
       "      <th>0</th>\n",
       "      <td>Couve Flor</td>\n",
       "      <td>Continente</td>\n",
       "      <td>1.99</td>\n",
       "      <td>Quant. Mínima = 1,4 kg (1 un)</td>\n",
       "    </tr>\n",
       "  </tbody>\n",
       "</table>\n",
       "</div>"
      ],
      "text/plain": [
       "                                           Name          Brand  Cost [€]  \\\n",
       "0  Gelado Chocolate Crunch Milk Caramel Pretzel     Continente      2.59   \n",
       "0                           Ovos Surpresa Dinos  Crackin' Eggs     12.99   \n",
       "0                                    Couve Flor     Continente      1.99   \n",
       "\n",
       "                        Quantity  \n",
       "0                    emb. 500 ml  \n",
       "0                                 \n",
       "0  Quant. Mínima = 1,4 kg (1 un)  "
      ]
     },
     "metadata": {},
     "output_type": "display_data"
    }
   ],
   "source": [
    "## asking the user an input for the ingredients he/she has left\n",
    "\n",
    "ingredients=input(\"Insert your leftovers (max. 3): \")\n",
    "ingredientslst = ingredients.split(\",\")\n",
    "\n",
    "                    ############################################################\n",
    "\n",
    "## web scrapping continente website\n",
    "\n",
    "def get_ingredients(ingredient):\n",
    "    \n",
    "    url = f\"https://www.continente.pt/pesquisa/?q={ingredient}+continente&start=0&srule=Continente&pmin=0.01\"\n",
    "    response = requests.get(url)\n",
    "    soup = BeautifulSoup(response.content)\n",
    "    \n",
    "    products_dict = {}\n",
    "    index = 0\n",
    "   \n",
    "    products = soup.find_all(\"div\", attrs = {\"ct-inner-tile-wrap col-inner-tile-wrap row no-gutters justify-content-center align-content-start\"})\n",
    "    \n",
    "    for product in products:\n",
    "        product_name = product.find_all('a', attrs = {\"class\":\"pwc-tile--description col-tile--description\"})[0].get_text()\n",
    "        product_brand = product.find_all('p', attrs = {\"class\":\"pwc-tile--brand col-tile--brand\"})[0].get_text()\n",
    "        product_cost = \",\".join(product.find_all('span', attrs = {\"class\":\"sales pwc-tile--price-primary col-tile--price-primary\"})[0].get_text().split())\n",
    "        product_quantity = product.find_all(\"p\", attrs = {\"class\":\"pwc-tile--quantity col-tile--quantity\"})[0].get_text()\n",
    "        products_dict[index] = {\"Name\":product_name,\n",
    "                                \"Brand\":product_brand,\n",
    "                                \"Cost [€]\":product_cost,\n",
    "                                \"Quantity\":product_quantity}\n",
    "        index += 1\n",
    "    \n",
    "    return pd.DataFrame.from_dict(products_dict, orient=\"index\")[:1] ## returning the first result of the search\n",
    "    \n",
    "    \n",
    "## function to convert the cost from \"1€\" to \"1\" using ReGex\n",
    "\n",
    "def extract_first_number(intro_string):\n",
    "    match = re.search(r'[€$]?\\d+\\,\\d{2}', intro_string)\n",
    "    if match:\n",
    "        price_str = match.group()\n",
    "        price = float(price_str.replace('€', '').replace('$', '').replace(',','.'))\n",
    "        return price\n",
    "    else:\n",
    "        return None\n",
    "\n",
    "## actually converting it and concating the results if input is more than 1 ingredient (function takes 1 argument)\n",
    "## and returns the first result\n",
    "\n",
    "continente_ingredients = []\n",
    "for item in ingredientslst:\n",
    "    continente_ingredient = get_ingredients(item)\n",
    "    continente_ingredient[\"Cost [€]\"] = continente_ingredient[\"Cost [€]\"].apply(extract_first_number)\n",
    "    continente_ingredients.append(continente_ingredient)\n",
    "\n",
    "## displaying the list of products\n",
    "## CHANGE: Set in a variable in order to run the extract number function\n",
    "df_ingredients = pd.concat(continente_ingredients)\n",
    "display(df_ingredients)"
   ]
  },
  {
   "cell_type": "code",
   "execution_count": 3,
   "id": "64662b9e",
   "metadata": {},
   "outputs": [
    {
     "name": "stdout",
     "output_type": "stream",
     "text": [
      "milk,eggs,floar\n"
     ]
    },
    {
     "ename": "NameError",
     "evalue": "name 'recipes' is not defined",
     "output_type": "error",
     "traceback": [
      "\u001b[1;31m---------------------------------------------------------------------------\u001b[0m",
      "\u001b[1;31mNameError\u001b[0m                                 Traceback (most recent call last)",
      "Cell \u001b[1;32mIn[3], line 75\u001b[0m\n\u001b[0;32m     62\u001b[0m \u001b[38;5;66;03m#display(df)\u001b[39;00m\n\u001b[0;32m     63\u001b[0m \n\u001b[0;32m     64\u001b[0m \u001b[38;5;66;03m#for i in df[\"ID\"]:\u001b[39;00m\n\u001b[1;32m   (...)\u001b[0m\n\u001b[0;32m     72\u001b[0m \u001b[38;5;66;03m#import textwrap #this is more user friendly\u001b[39;00m\n\u001b[0;32m     73\u001b[0m \u001b[38;5;66;03m#screen_width = 15 ################################################ should we use this?\u001b[39;00m\n\u001b[0;32m     74\u001b[0m list_recipe_instruction \u001b[38;5;241m=\u001b[39m []\n\u001b[1;32m---> 75\u001b[0m \u001b[38;5;28;01mfor\u001b[39;00m index, recipe_text \u001b[38;5;129;01min\u001b[39;00m \u001b[38;5;28menumerate\u001b[39m(recipes[:\u001b[38;5;241m5\u001b[39m], start\u001b[38;5;241m=\u001b[39m\u001b[38;5;241m1\u001b[39m):\n\u001b[0;32m     76\u001b[0m     \u001b[38;5;66;03m#print(f\"Recipe {index} Instructions:\")\u001b[39;00m\n\u001b[0;32m     77\u001b[0m     list_recipe_instruction\u001b[38;5;241m.\u001b[39mappend(recipe_text\u001b[38;5;241m.\u001b[39mreplace(\u001b[38;5;124m'\u001b[39m\u001b[38;5;124m/\u001b[39m\u001b[38;5;124m'\u001b[39m, \u001b[38;5;124m'\u001b[39m\u001b[38;5;124m'\u001b[39m)\u001b[38;5;241m.\u001b[39mstrip())\n\u001b[0;32m     78\u001b[0m     \u001b[38;5;66;03m#wrapped_recipe = textwrap.fill(cleaned_recipe_text, width=screen_width)\u001b[39;00m\n",
      "\u001b[1;31mNameError\u001b[0m: name 'recipes' is not defined"
     ]
    }
   ],
   "source": [
    "# CHANGE: Changed the google trans part with deepl\n",
    "\n",
    "from langdetect import detect\n",
    "\n",
    "# function that returns the recipe's name according to the leftovers, using and api\n",
    "\n",
    "def get_ing_recipe(ingredients):\n",
    "    \n",
    "    ##translating the input from pt to en, because the recipes api is built inenglish\n",
    "\n",
    "    # Your DeepL API key\n",
    "    api_key = \"7ac3ea93-3873-1749-3614-5f05f051b69e:fx\"\n",
    "\n",
    "    # Specify the target language (e.g., 'EN' for English)\n",
    "    target_lang = 'EN'\n",
    "    # URL for the DeepL API (use the free endpoint)\n",
    "    url = f'https://api-free.deepl.com/v2/translate?text={ingredients}&target_lang={target_lang}'\n",
    "\n",
    "    # Set up the headers with your API key\n",
    "    headers = {\n",
    "        'Authorization': f'DeepL-Auth-Key {api_key}'}\n",
    "\n",
    "    # Send the request\n",
    "    response = requests.get(url, headers=headers)\n",
    "\n",
    "    if response.status_code == 200:\n",
    "        translation_data = response.json()\n",
    "        ingredients_translated = translation_data['translations'][0]['text']\n",
    "        print(ingredients_translated)\n",
    "    else:\n",
    "        print(f\"Error: {response.status_code} - {response.text}\")\n",
    "    \n",
    "    url = \"https://spoonacular-recipe-food-nutrition-v1.p.rapidapi.com/recipes/findByIngredients\"\n",
    "    querystring = {\"ingredients\":ingredients_translated,\n",
    "                   \"number\":\"5\",\n",
    "                   \"ignorePantry\":\"true\",\n",
    "                   \"ranking\":\"1\"}\n",
    "    headers = {\"X-RapidAPI-Key\": \"2aab6360ccmsh49dd1ea35854c8bp1fe6d7jsn8d4835fc6865\",\n",
    "               \"X-RapidAPI-Host\": \"spoonacular-recipe-food-nutrition-v1.p.rapidapi.com\"}\n",
    "    response = requests.get(url, headers=headers, params=querystring)\n",
    "    r = response.json()\n",
    "    \n",
    "    recipes = {}\n",
    "    recipe_number = 1\n",
    "\n",
    "    for i in range(0, len(r)):\n",
    "        recipe = r[i]['title']\n",
    "        id_name = r[i][\"id\"]\n",
    "        if r[i]['missedIngredients']:\n",
    "            missing_ingredient = r[i]['missedIngredients'][0]['name']\n",
    "        else:\n",
    "            missing_ingredient = \"n/a\"\n",
    "        recipes[recipe_number] = {\"ID\":id_name,\n",
    "                                   \"Recipe\":recipe,\n",
    "                                  \"Missing Igredients\":missing_ingredient}\n",
    "    \n",
    "        recipe_number += 1\n",
    "            \n",
    "    return pd.DataFrame.from_dict(recipes, orient=\"index\")[:6] ## first 5 results\n",
    "\n",
    "df_recipes = get_ing_recipe(ingredients)\n",
    "#display(df)\n",
    "\n",
    "#for i in df[\"ID\"]:\n",
    "    #url = f\"https://api.spoonacular.com/recipes/{i}/information\"\n",
    "    #params = {\"apiKey\": api_key, \"ingredients\": f\"{ingredientslst[0]},{ingredientslst[1]},{ingredientslst[2]}\"}\n",
    "    #response = requests.get(url, params=params)\n",
    "    #recipe_details = response.json()\n",
    "    #recipe_text = recipe_details.get(\"instructions\", \"None\")\n",
    "    #recipes.append(recipe_text)\n",
    "#\"\"\" The 'recipes' list contains the text of each recipe, we should narrow here the outpu of limit number recipes - here to 5 \"\"\"\n",
    "#import textwrap #this is more user friendly\n",
    "#screen_width = 15 ################################################ should we use this?\n",
    "list_recipe_instruction = []\n",
    "for index, recipe_text in enumerate(recipes[:5], start=1):\n",
    "    #print(f\"Recipe {index} Instructions:\")\n",
    "    list_recipe_instruction.append(recipe_text.replace('/', '').strip())\n",
    "    #wrapped_recipe = textwrap.fill(cleaned_recipe_text, width=screen_width)\n",
    "\n",
    "df_recipes[\"Recipe Instruction\"] = list_recipe_instruction\n",
    "df_recipes = df_recipes[['Recipe', 'Missing Igredients', \"Recipe Instruction\"]]\n",
    "\n",
    "# Set the option to display long column values without truncation\n",
    "pd.set_option('display.max_colwidth', None)\n",
    "\n",
    "# Now, when you print the DataFrame, the long sentences won't be truncated\n",
    "display(df_recipes)"
   ]
  },
  {
   "cell_type": "code",
   "execution_count": 4,
   "id": "a101f728",
   "metadata": {},
   "outputs": [
    {
     "data": {
      "text/plain": [
       "\"Making this recipe will save you €17.57!Let's be smart with both food and money:D\""
      ]
     },
     "execution_count": 4,
     "metadata": {},
     "output_type": "execute_result"
    }
   ],
   "source": [
    "# Function to calculate the cost (updated ver.)\n",
    "\n",
    "def calculate_cost(dataset):\n",
    "    \n",
    "    total_cost = sum(dataset[\"Cost [€]\"])\n",
    "    return f\"Making this recipe will save you €{total_cost}!Let's be smart with both food and money:D\"\n",
    "\n",
    "calculate_cost(df_ingredients)"
   ]
  },
  {
   "cell_type": "code",
   "execution_count": null,
   "id": "75db7dc1",
   "metadata": {},
   "outputs": [],
   "source": []
  }
 ],
 "metadata": {
  "kernelspec": {
   "display_name": "Python 3 (ipykernel)",
   "language": "python",
   "name": "python3"
  },
  "language_info": {
   "codemirror_mode": {
    "name": "ipython",
    "version": 3
   },
   "file_extension": ".py",
   "mimetype": "text/x-python",
   "name": "python",
   "nbconvert_exporter": "python",
   "pygments_lexer": "ipython3",
   "version": "3.11.3"
  }
 },
 "nbformat": 4,
 "nbformat_minor": 5
}
