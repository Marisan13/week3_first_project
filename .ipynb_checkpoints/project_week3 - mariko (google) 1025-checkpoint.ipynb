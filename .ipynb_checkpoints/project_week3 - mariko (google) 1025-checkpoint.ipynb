{
 "cells": [
  {
   "cell_type": "markdown",
   "id": "3655e943",
   "metadata": {},
   "source": [
    "# Food Waste - Project Week 3 - Mariko"
   ]
  },
  {
   "cell_type": "code",
   "execution_count": 1,
   "id": "f92b4589",
   "metadata": {
    "scrolled": true
   },
   "outputs": [],
   "source": [
    "import pandas as pd\n",
    "from bs4 import BeautifulSoup\n",
    "import requests\n",
    "import statistics as stat\n",
    "from googletrans import Translator\n",
    "import re"
   ]
  },
  {
   "cell_type": "code",
   "execution_count": 2,
   "id": "49d6b899",
   "metadata": {},
   "outputs": [
    {
     "name": "stdout",
     "output_type": "stream",
     "text": [
      "Insert your leftovers (max. 3): leite,ovos\n"
     ]
    },
    {
     "data": {
      "text/html": [
       "<div>\n",
       "<style scoped>\n",
       "    .dataframe tbody tr th:only-of-type {\n",
       "        vertical-align: middle;\n",
       "    }\n",
       "\n",
       "    .dataframe tbody tr th {\n",
       "        vertical-align: top;\n",
       "    }\n",
       "\n",
       "    .dataframe thead th {\n",
       "        text-align: right;\n",
       "    }\n",
       "</style>\n",
       "<table border=\"1\" class=\"dataframe\">\n",
       "  <thead>\n",
       "    <tr style=\"text-align: right;\">\n",
       "      <th></th>\n",
       "      <th>Name</th>\n",
       "      <th>Brand</th>\n",
       "      <th>Cost [€]</th>\n",
       "      <th>Quantity</th>\n",
       "    </tr>\n",
       "  </thead>\n",
       "  <tbody>\n",
       "    <tr>\n",
       "      <th>0</th>\n",
       "      <td>Leite UHT Meio Gordo</td>\n",
       "      <td>Continente</td>\n",
       "      <td>0.78</td>\n",
       "      <td>emb. 1 lt</td>\n",
       "    </tr>\n",
       "    <tr>\n",
       "      <th>0</th>\n",
       "      <td>Ovos de Solo Classe L</td>\n",
       "      <td>Continente</td>\n",
       "      <td>2.34</td>\n",
       "      <td>emb. 12 un</td>\n",
       "    </tr>\n",
       "  </tbody>\n",
       "</table>\n",
       "</div>"
      ],
      "text/plain": [
       "                    Name       Brand  Cost [€]    Quantity\n",
       "0   Leite UHT Meio Gordo  Continente      0.78   emb. 1 lt\n",
       "0  Ovos de Solo Classe L  Continente      2.34  emb. 12 un"
      ]
     },
     "metadata": {},
     "output_type": "display_data"
    }
   ],
   "source": [
    "## asking the user an input for the ingredients he/she has left\n",
    "\n",
    "ingredients=input(\"Insert your leftovers (max. 3): \")\n",
    "ingredientslst = ingredients.split(\",\")\n",
    "\n",
    "                    ############################################################\n",
    "\n",
    "## web scrapping continente website\n",
    "\n",
    "def get_ingredients(ingredient):\n",
    "    \n",
    "    url = f\"https://www.continente.pt/pesquisa/?q={ingredient}+continente&start=0&srule=Continente&pmin=0.01\"\n",
    "    response = requests.get(url)\n",
    "    soup = BeautifulSoup(response.content)\n",
    "    \n",
    "    products_dict = {}\n",
    "    index = 0\n",
    "   \n",
    "    products = soup.find_all(\"div\", attrs = {\"ct-inner-tile-wrap col-inner-tile-wrap row no-gutters justify-content-center align-content-start\"})\n",
    "    \n",
    "    for product in products:\n",
    "        product_name = product.find_all('a', attrs = {\"class\":\"pwc-tile--description col-tile--description\"})[0].get_text()\n",
    "        product_brand = product.find_all('p', attrs = {\"class\":\"pwc-tile--brand col-tile--brand\"})[0].get_text()\n",
    "        product_cost = \",\".join(product.find_all('span', attrs = {\"class\":\"sales pwc-tile--price-primary col-tile--price-primary\"})[0].get_text().split())\n",
    "        product_quantity = product.find_all(\"p\", attrs = {\"class\":\"pwc-tile--quantity col-tile--quantity\"})[0].get_text()\n",
    "        products_dict[index] = {\"Name\":product_name,\n",
    "                                \"Brand\":product_brand,\n",
    "                                \"Cost [€]\":product_cost,\n",
    "                                \"Quantity\":product_quantity}\n",
    "        index += 1\n",
    "    \n",
    "    return pd.DataFrame.from_dict(products_dict, orient=\"index\")[:1] ## returning the first result of the search\n",
    "    \n",
    "    \n",
    "## function to convert the cost from \"1€\" to \"1\" using ReGex\n",
    "\n",
    "def extract_first_number(intro_string):\n",
    "    match = re.search(r'[€$]?\\d+\\,\\d{2}', intro_string)\n",
    "    if match:\n",
    "        price_str = match.group()\n",
    "        price = float(price_str.replace('€', '').replace('$', '').replace(',','.'))\n",
    "        return price\n",
    "    else:\n",
    "        return None\n",
    "\n",
    "## actually converting it and concating the results if input is more than 1 ingredient (function takes 1 argument)\n",
    "## and returns the first result\n",
    "\n",
    "continente_ingredients = []\n",
    "for item in ingredientslst:\n",
    "    continente_ingredient = get_ingredients(item)\n",
    "    continente_ingredient[\"Cost [€]\"] = continente_ingredient[\"Cost [€]\"].apply(extract_first_number)\n",
    "    continente_ingredients.append(continente_ingredient)\n",
    "\n",
    "## displaying the list of products\n",
    "## CHANGE: Set in a variable in order to run the extract number function\n",
    "df_ingredients = pd.concat(continente_ingredients)\n",
    "display(df_ingredients)"
   ]
  },
  {
   "cell_type": "code",
   "execution_count": 4,
   "id": "64662b9e",
   "metadata": {},
   "outputs": [
    {
     "ename": "AttributeError",
     "evalue": "'NoneType' object has no attribute 'group'",
     "output_type": "error",
     "traceback": [
      "\u001b[1;31m---------------------------------------------------------------------------\u001b[0m",
      "\u001b[1;31mAttributeError\u001b[0m                            Traceback (most recent call last)",
      "Cell \u001b[1;32mIn[4], line 41\u001b[0m\n\u001b[0;32m     37\u001b[0m         recipe_number \u001b[38;5;241m+\u001b[39m\u001b[38;5;241m=\u001b[39m \u001b[38;5;241m1\u001b[39m\n\u001b[0;32m     39\u001b[0m     \u001b[38;5;28;01mreturn\u001b[39;00m pd\u001b[38;5;241m.\u001b[39mDataFrame\u001b[38;5;241m.\u001b[39mfrom_dict(recipes, orient\u001b[38;5;241m=\u001b[39m\u001b[38;5;124m\"\u001b[39m\u001b[38;5;124mindex\u001b[39m\u001b[38;5;124m\"\u001b[39m)[:\u001b[38;5;241m6\u001b[39m] \u001b[38;5;66;03m## first 5 results\u001b[39;00m\n\u001b[1;32m---> 41\u001b[0m df_recipes \u001b[38;5;241m=\u001b[39m get_ing_recipe(ingredients)\n\u001b[0;32m     42\u001b[0m \u001b[38;5;66;03m#display(df)\u001b[39;00m\n\u001b[0;32m     43\u001b[0m \n\u001b[0;32m     44\u001b[0m \u001b[38;5;66;03m#for i in df[\"ID\"]:\u001b[39;00m\n\u001b[1;32m   (...)\u001b[0m\n\u001b[0;32m     52\u001b[0m \u001b[38;5;66;03m#import textwrap #this is more user friendly\u001b[39;00m\n\u001b[0;32m     53\u001b[0m \u001b[38;5;66;03m#screen_width = 15 ################################################ should we use this?\u001b[39;00m\n\u001b[0;32m     54\u001b[0m list_recipe_instruction \u001b[38;5;241m=\u001b[39m []\n",
      "Cell \u001b[1;32mIn[4], line 11\u001b[0m, in \u001b[0;36mget_ing_recipe\u001b[1;34m(ingredients)\u001b[0m\n\u001b[0;32m      7\u001b[0m \u001b[38;5;28;01mdef\u001b[39;00m \u001b[38;5;21mget_ing_recipe\u001b[39m(ingredients):\n\u001b[0;32m      8\u001b[0m     \n\u001b[0;32m      9\u001b[0m     \u001b[38;5;66;03m##translating the input from pt to en, because the recipes api is built inenglish\u001b[39;00m\n\u001b[0;32m     10\u001b[0m     translator \u001b[38;5;241m=\u001b[39m Translator()\n\u001b[1;32m---> 11\u001b[0m     ingredients_translated \u001b[38;5;241m=\u001b[39m translator\u001b[38;5;241m.\u001b[39mtranslate(ingredients, dest\u001b[38;5;241m=\u001b[39m\u001b[38;5;124m'\u001b[39m\u001b[38;5;124men\u001b[39m\u001b[38;5;124m'\u001b[39m)\u001b[38;5;241m.\u001b[39mtext \n\u001b[0;32m     13\u001b[0m     url \u001b[38;5;241m=\u001b[39m \u001b[38;5;124m\"\u001b[39m\u001b[38;5;124mhttps://spoonacular-recipe-food-nutrition-v1.p.rapidapi.com/recipes/findByIngredients\u001b[39m\u001b[38;5;124m\"\u001b[39m\n\u001b[0;32m     14\u001b[0m     querystring \u001b[38;5;241m=\u001b[39m {\u001b[38;5;124m\"\u001b[39m\u001b[38;5;124mingredients\u001b[39m\u001b[38;5;124m\"\u001b[39m:ingredients_translated,\n\u001b[0;32m     15\u001b[0m                    \u001b[38;5;124m\"\u001b[39m\u001b[38;5;124mnumber\u001b[39m\u001b[38;5;124m\"\u001b[39m:\u001b[38;5;124m\"\u001b[39m\u001b[38;5;124m5\u001b[39m\u001b[38;5;124m\"\u001b[39m,\n\u001b[0;32m     16\u001b[0m                    \u001b[38;5;124m\"\u001b[39m\u001b[38;5;124mignorePantry\u001b[39m\u001b[38;5;124m\"\u001b[39m:\u001b[38;5;124m\"\u001b[39m\u001b[38;5;124mtrue\u001b[39m\u001b[38;5;124m\"\u001b[39m,\n\u001b[0;32m     17\u001b[0m                    \u001b[38;5;124m\"\u001b[39m\u001b[38;5;124mranking\u001b[39m\u001b[38;5;124m\"\u001b[39m:\u001b[38;5;124m\"\u001b[39m\u001b[38;5;124m1\u001b[39m\u001b[38;5;124m\"\u001b[39m}\n",
      "File \u001b[1;32m~\\anaconda3\\Lib\\site-packages\\googletrans\\client.py:172\u001b[0m, in \u001b[0;36mTranslator.translate\u001b[1;34m(self, text, dest, src)\u001b[0m\n\u001b[0;32m    169\u001b[0m     \u001b[38;5;28;01mreturn\u001b[39;00m result\n\u001b[0;32m    171\u001b[0m origin \u001b[38;5;241m=\u001b[39m text\n\u001b[1;32m--> 172\u001b[0m data \u001b[38;5;241m=\u001b[39m \u001b[38;5;28mself\u001b[39m\u001b[38;5;241m.\u001b[39m_translate(text, dest, src)\n\u001b[0;32m    174\u001b[0m \u001b[38;5;66;03m# this code will be updated when the format is changed.\u001b[39;00m\n\u001b[0;32m    175\u001b[0m translated \u001b[38;5;241m=\u001b[39m \u001b[38;5;124m'\u001b[39m\u001b[38;5;124m'\u001b[39m\u001b[38;5;241m.\u001b[39mjoin([d[\u001b[38;5;241m0\u001b[39m] \u001b[38;5;28;01mif\u001b[39;00m d[\u001b[38;5;241m0\u001b[39m] \u001b[38;5;28;01melse\u001b[39;00m \u001b[38;5;124m'\u001b[39m\u001b[38;5;124m'\u001b[39m \u001b[38;5;28;01mfor\u001b[39;00m d \u001b[38;5;129;01min\u001b[39;00m data[\u001b[38;5;241m0\u001b[39m]])\n",
      "File \u001b[1;32m~\\anaconda3\\Lib\\site-packages\\googletrans\\client.py:75\u001b[0m, in \u001b[0;36mTranslator._translate\u001b[1;34m(self, text, dest, src)\u001b[0m\n\u001b[0;32m     72\u001b[0m \u001b[38;5;28;01mif\u001b[39;00m \u001b[38;5;129;01mnot\u001b[39;00m PY3 \u001b[38;5;129;01mand\u001b[39;00m \u001b[38;5;28misinstance\u001b[39m(text, \u001b[38;5;28mstr\u001b[39m):  \u001b[38;5;66;03m# pragma: nocover\u001b[39;00m\n\u001b[0;32m     73\u001b[0m     text \u001b[38;5;241m=\u001b[39m text\u001b[38;5;241m.\u001b[39mdecode(\u001b[38;5;124m'\u001b[39m\u001b[38;5;124mutf-8\u001b[39m\u001b[38;5;124m'\u001b[39m)\n\u001b[1;32m---> 75\u001b[0m token \u001b[38;5;241m=\u001b[39m \u001b[38;5;28mself\u001b[39m\u001b[38;5;241m.\u001b[39mtoken_acquirer\u001b[38;5;241m.\u001b[39mdo(text)\n\u001b[0;32m     76\u001b[0m params \u001b[38;5;241m=\u001b[39m utils\u001b[38;5;241m.\u001b[39mbuild_params(query\u001b[38;5;241m=\u001b[39mtext, src\u001b[38;5;241m=\u001b[39msrc, dest\u001b[38;5;241m=\u001b[39mdest,\n\u001b[0;32m     77\u001b[0m                             token\u001b[38;5;241m=\u001b[39mtoken)\n\u001b[0;32m     78\u001b[0m url \u001b[38;5;241m=\u001b[39m urls\u001b[38;5;241m.\u001b[39mTRANSLATE\u001b[38;5;241m.\u001b[39mformat(host\u001b[38;5;241m=\u001b[39m\u001b[38;5;28mself\u001b[39m\u001b[38;5;241m.\u001b[39m_pick_service_url())\n",
      "File \u001b[1;32m~\\anaconda3\\Lib\\site-packages\\googletrans\\gtoken.py:200\u001b[0m, in \u001b[0;36mTokenAcquirer.do\u001b[1;34m(self, text)\u001b[0m\n\u001b[0;32m    199\u001b[0m \u001b[38;5;28;01mdef\u001b[39;00m \u001b[38;5;21mdo\u001b[39m(\u001b[38;5;28mself\u001b[39m, text):\n\u001b[1;32m--> 200\u001b[0m     \u001b[38;5;28mself\u001b[39m\u001b[38;5;241m.\u001b[39m_update()\n\u001b[0;32m    201\u001b[0m     tk \u001b[38;5;241m=\u001b[39m \u001b[38;5;28mself\u001b[39m\u001b[38;5;241m.\u001b[39macquire(text)\n\u001b[0;32m    202\u001b[0m     \u001b[38;5;28;01mreturn\u001b[39;00m tk\n",
      "File \u001b[1;32m~\\anaconda3\\Lib\\site-packages\\googletrans\\gtoken.py:65\u001b[0m, in \u001b[0;36mTokenAcquirer._update\u001b[1;34m(self)\u001b[0m\n\u001b[0;32m     62\u001b[0m     \u001b[38;5;28;01mreturn\u001b[39;00m\n\u001b[0;32m     64\u001b[0m \u001b[38;5;66;03m# this will be the same as python code after stripping out a reserved word 'var'\u001b[39;00m\n\u001b[1;32m---> 65\u001b[0m code \u001b[38;5;241m=\u001b[39m unicode(\u001b[38;5;28mself\u001b[39m\u001b[38;5;241m.\u001b[39mRE_TKK\u001b[38;5;241m.\u001b[39msearch(r\u001b[38;5;241m.\u001b[39mtext)\u001b[38;5;241m.\u001b[39mgroup(\u001b[38;5;241m1\u001b[39m))\u001b[38;5;241m.\u001b[39mreplace(\u001b[38;5;124m'\u001b[39m\u001b[38;5;124mvar \u001b[39m\u001b[38;5;124m'\u001b[39m, \u001b[38;5;124m'\u001b[39m\u001b[38;5;124m'\u001b[39m)\n\u001b[0;32m     66\u001b[0m \u001b[38;5;66;03m# unescape special ascii characters such like a \\x3d(=)\u001b[39;00m\n\u001b[0;32m     67\u001b[0m \u001b[38;5;28;01mif\u001b[39;00m PY3:  \u001b[38;5;66;03m# pragma: no cover\u001b[39;00m\n",
      "\u001b[1;31mAttributeError\u001b[0m: 'NoneType' object has no attribute 'group'"
     ]
    }
   ],
   "source": [
    "# Google Trans ver.\n",
    "\n",
    "from langdetect import detect\n",
    "\n",
    "# function that returns the recipe's name according to the leftovers, using and api\n",
    "\n",
    "def get_ing_recipe(ingredients):\n",
    "    \n",
    "    ##translating the input from pt to en, because the recipes api is built inenglish\n",
    "    translator = Translator()\n",
    "    ingredients_translated = translator.translate(ingredients, dest='en').text \n",
    "    \n",
    "    url = \"https://spoonacular-recipe-food-nutrition-v1.p.rapidapi.com/recipes/findByIngredients\"\n",
    "    querystring = {\"ingredients\":ingredients_translated,\n",
    "                   \"number\":\"5\",\n",
    "                   \"ignorePantry\":\"true\",\n",
    "                   \"ranking\":\"1\"}\n",
    "    headers = {\"X-RapidAPI-Key\": \"2aab6360ccmsh49dd1ea35854c8bp1fe6d7jsn8d4835fc6865\",\n",
    "               \"X-RapidAPI-Host\": \"spoonacular-recipe-food-nutrition-v1.p.rapidapi.com\"}\n",
    "    response = requests.get(url, headers=headers, params=querystring)\n",
    "    r = response.json()\n",
    "    \n",
    "    recipes = {}\n",
    "    recipe_number = 1\n",
    "\n",
    "    for i in range(0, len(r)):\n",
    "        recipe = r[i]['title']\n",
    "        id_name = r[i][\"id\"]\n",
    "        if r[i]['missedIngredients']:\n",
    "            missing_ingredient = r[i]['missedIngredients'][0]['name']\n",
    "        else:\n",
    "            missing_ingredient = \"n/a\"\n",
    "        recipes[recipe_number] = {\"ID\":id_name,\n",
    "                                   \"Recipe\":recipe,\n",
    "                                  \"Missing Igredients\":missing_ingredient}\n",
    "    \n",
    "        recipe_number += 1\n",
    "            \n",
    "    return pd.DataFrame.from_dict(recipes, orient=\"index\")[:6] ## first 5 results\n",
    "\n",
    "df_recipes = get_ing_recipe(ingredients)\n",
    "#display(df)\n",
    "\n",
    "#for i in df[\"ID\"]:\n",
    "    #url = f\"https://api.spoonacular.com/recipes/{i}/information\"\n",
    "    #params = {\"apiKey\": api_key, \"ingredients\": f\"{ingredientslst[0]},{ingredientslst[1]},{ingredientslst[2]}\"}\n",
    "    #response = requests.get(url, params=params)\n",
    "    #recipe_details = response.json()\n",
    "    #recipe_text = recipe_details.get(\"instructions\", \"None\")\n",
    "    #recipes.append(recipe_text)\n",
    "#\"\"\" The 'recipes' list contains the text of each recipe, we should narrow here the outpu of limit number recipes - here to 5 \"\"\"\n",
    "#import textwrap #this is more user friendly\n",
    "#screen_width = 15 ################################################ should we use this?\n",
    "list_recipe_instruction = []\n",
    "for index, recipe_text in enumerate(recipes[:5], start=1):\n",
    "    #print(f\"Recipe {index} Instructions:\")\n",
    "    list_recipe_instruction.append(recipe_text.replace('/', '').strip())\n",
    "    #wrapped_recipe = textwrap.fill(cleaned_recipe_text, width=screen_width)\n",
    "\n",
    "df_recipes[\"Recipe Instruction\"] = list_recipe_instruction\n",
    "df_recipes = df_recipes[['Recipe', 'Missing Igredients', \"Recipe Instruction\"]]\n",
    "\n",
    "# Set the option to display long column values without truncation\n",
    "pd.set_option('display.max_colwidth', None)\n",
    "\n",
    "# Now, when you print the DataFrame, the long sentences won't be truncated\n",
    "display(df_recipes)"
   ]
  },
  {
   "cell_type": "code",
   "execution_count": 3,
   "id": "a101f728",
   "metadata": {},
   "outputs": [
    {
     "data": {
      "text/plain": [
       "\"Making this recipe will save you €3.12!Let's be smart with both food and money:D\""
      ]
     },
     "execution_count": 3,
     "metadata": {},
     "output_type": "execute_result"
    }
   ],
   "source": [
    "# Function to calculate the cost (updated ver.)\n",
    "\n",
    "def calculate_cost(dataset):\n",
    "    \n",
    "    total_cost = sum(dataset[\"Cost [€]\"])\n",
    "    return f\"Making this recipe will save you €{total_cost}!Let's be smart with both food and money:D\"\n",
    "\n",
    "calculate_cost(df_ingredients)"
   ]
  },
  {
   "cell_type": "code",
   "execution_count": null,
   "id": "75db7dc1",
   "metadata": {},
   "outputs": [],
   "source": []
  }
 ],
 "metadata": {
  "kernelspec": {
   "display_name": "Python 3 (ipykernel)",
   "language": "python",
   "name": "python3"
  },
  "language_info": {
   "codemirror_mode": {
    "name": "ipython",
    "version": 3
   },
   "file_extension": ".py",
   "mimetype": "text/x-python",
   "name": "python",
   "nbconvert_exporter": "python",
   "pygments_lexer": "ipython3",
   "version": "3.11.3"
  }
 },
 "nbformat": 4,
 "nbformat_minor": 5
}
